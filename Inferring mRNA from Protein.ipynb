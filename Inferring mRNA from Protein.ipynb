{
 "cells": [
  {
   "cell_type": "markdown",
   "metadata": {},
   "source": [
    "# Problem\n",
    "\n",
    "For positive integers aa and nn, aa modulo nn (written amodnamodn in shorthand) is the remainder when aa is divided by nn. For example, 29mod11=729mod11=7 because 29=11×2+729=11×2+7.\n",
    "\n",
    "Modular arithmetic is the study of addition, subtraction, multiplication, and division with respect to the modulo operation. We say that aa and bb are congruent modulo nn if amodn=bmodnamodn=bmodn; in this case, we use the notation a≡bmodna≡bmodn.\n",
    "\n",
    "Two useful facts in modular arithmetic are that if a≡bmodna≡bmodn and c≡dmodnc≡dmodn, then a+c≡b+dmodna+c≡b+dmodn and a×c≡b×dmodna×c≡b×dmodn. To check your understanding of these rules, you may wish to verify these relationships for a=29a=29, b=73b=73, c=10c=10, d=32d=32, and n=11n=11.\n",
    "\n",
    "As you will see in this exercise, some Rosalind problems will ask for a (very large) integer solution modulo a smaller number to avoid the computational pitfalls that arise with storing such large numbers.\n",
    "\n",
    "**Given**: A protein string of length at most 1000 aa.\n",
    "\n",
    "**Return**: The total number of different RNA strings from which the protein could have been translated, modulo 1,000,000. (Don't neglect the importance of the stop codon in protein translation.)\n",
    "\n",
    "Sample Dataset"
   ]
  },
  {
   "cell_type": "code",
   "execution_count": 5,
   "metadata": {
    "collapsed": true
   },
   "outputs": [],
   "source": [
    "DNA_codon_table = {\n",
    "    'TTT': 'F',     'CTT': 'L',     'ATT': 'I',     'GTT': 'V',\n",
    "    'TTC': 'F',     'CTC': 'L',     'ATC': 'I',     'GTC': 'V',\n",
    "    'TTA': 'L',     'CTA': 'L',     'ATA': 'I',     'GTA': 'V',\n",
    "    'TTG': 'L',     'CTG': 'L',     'ATG': 'M',     'GTG': 'V',\n",
    "    'TCT': 'S',     'CCT': 'P',     'ACT': 'T',     'GCT': 'A',\n",
    "    'TCC': 'S',     'CCC': 'P',     'ACC': 'T',     'GCC': 'A',\n",
    "    'TCA': 'S',     'CCA': 'P',     'ACA': 'T',     'GCA': 'A',\n",
    "    'TCG': 'S',     'CCG': 'P',     'ACG': 'T',     'GCG': 'A',\n",
    "    'TAT': 'Y',     'CAT': 'H',     'AAT': 'N',     'GAT': 'D',\n",
    "    'TAC': 'Y',     'CAC': 'H',     'AAC': 'N',     'GAC': 'D',\n",
    "    'TAA': '-',     'CAA': 'Q',     'AAA': 'K',     'GAA': 'E',\n",
    "    'TAG': '-',     'CAG': 'Q',     'AAG': 'K',     'GAG': 'E',\n",
    "    'TGT': 'C',     'CGT': 'R',     'AGT': 'S',     'GGT': 'G',\n",
    "    'TGC': 'C',     'CGC': 'R',     'AGC': 'S',     'GGC': 'G',\n",
    "    'TGA': '-',     'CGA': 'R',     'AGA': 'R',     'GGA': 'G',\n",
    "    'TGG': 'W',     'CGG': 'R',     'AGG': 'R',     'GGG': 'G'\n",
    "}\n",
    "def enumerateRNA_protein(aa_sequence):\n",
    "    AAs = DNA_codon_table.values()\n",
    "    possibilities = 1\n",
    "    for i in aa_sequence:\n",
    "        possibilities = possibilities * AAs.count(i)\n",
    "    possibilities = possibilities * 3\n",
    "    return possibilities % 1000000"
   ]
  },
  {
   "cell_type": "code",
   "execution_count": 6,
   "metadata": {},
   "outputs": [
    {
     "data": {
      "text/plain": [
       "12"
      ]
     },
     "execution_count": 6,
     "metadata": {},
     "output_type": "execute_result"
    }
   ],
   "source": [
    "enumerateRNA_protein(\"MA\")"
   ]
  },
  {
   "cell_type": "code",
   "execution_count": 7,
   "metadata": {
    "collapsed": true
   },
   "outputs": [],
   "source": [
    "test = \"MAQWDLYLNIWITHVHQLLQGPYWQTAKSQICNYAVINLKAWVTKRWDSLKWFTWHNNPECMSERDQHDEQITCMVHINFKPFKCFYKDHALSYYRYCFKWWFKMLHMFLVCKMGFCIDQTRPQEKCPMCITCVNRHGEGENTQWNVACGHMMNTRWFQVLPFHAHMEGDVPTPYTIRENGPSSLMYWKQRNYQKTKRDLRCYMPQYSNIQLCSVCYDLLPGDKVNKAKITYVPCQMYYDFSYAPCGQVFNVFNVFVPAEHNYRGEAHSYHYASDQKPIRTQQRTAYYMYIKRRSNSVVRKKWWEMGAHPQENEHYHDYGSCGFMSSIFWALMFLMFRSCMDWMVTYAGDHQTVIYWYSFFWVWLCMTRATRNCGGEPSPPEYIHCLVNIKYMPVNSWDPMVHERHCNPVMTQTGFHFQVMDDCPSTAMEWWRFNWTKVFSNNCNIHGWLMNHHVIKFHVEDKFCGLGFKTTCARPERKNVIINWDESAHHNEHMKGSLWVATGTRNYTRWDHWTGPMRQTHGPGLFASVWHHQCTWPIIYCPDTWRYAKVEFIPSYANYNRCTDGQTSRHLCHFYSNPRFVACRATHKLTMMGTGRYDKWGYEQSIDDFIYACLHSDLSWHIPISTYDDLGVGDENWNVTYTAIKGKVEMQWDSSARKYPPQDYHYSWINYWTFWKNWKHRKGRAQWLSMFDHGVACTHKFYFAVTAFQWTFCEDWYHITCLPNWYRYWVGCQAYGQYWFNWDIKLDSHEIWLLEIGARIQHSNDVPLNWSGANIRHWYEWGKQYQWDINRFGLKGAKRRIPDKCEWHRHTKHEVFIWRHTHITTWCGVTCYMQYKALHPAWTLHGHDKQYTGNAYETEFWTRNGFYFAFEIAPNPLERHVDFYVVPPCFQDAVTWPWINIHDFMATTKLRVHIQECMPDYIFGDALYQKGRVAQCYDATHVRTPAQAIHLSCGMQLCFMVNQKVSNHWSFDKPQTPHEFAQQKTCTFWIADAIVQY\""
   ]
  },
  {
   "cell_type": "code",
   "execution_count": 9,
   "metadata": {},
   "outputs": [
    {
     "name": "stdout",
     "output_type": "stream",
     "text": [
      "570176\n"
     ]
    }
   ],
   "source": [
    "print enumerateRNA_protein(test)"
   ]
  },
  {
   "cell_type": "code",
   "execution_count": null,
   "metadata": {
    "collapsed": true
   },
   "outputs": [],
   "source": []
  }
 ],
 "metadata": {
  "anaconda-cloud": {},
  "kernelspec": {
   "display_name": "Python [default]",
   "language": "python",
   "name": "python2"
  },
  "language_info": {
   "codemirror_mode": {
    "name": "ipython",
    "version": 2
   },
   "file_extension": ".py",
   "mimetype": "text/x-python",
   "name": "python",
   "nbconvert_exporter": "python",
   "pygments_lexer": "ipython2",
   "version": "2.7.11"
  }
 },
 "nbformat": 4,
 "nbformat_minor": 2
}
