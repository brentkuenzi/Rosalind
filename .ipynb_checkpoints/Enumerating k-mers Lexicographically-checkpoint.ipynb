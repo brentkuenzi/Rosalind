{
 "cells": [
  {
   "cell_type": "code",
   "execution_count": 48,
   "metadata": {
    "collapsed": true
   },
   "outputs": [],
   "source": [
    "import itertools\n",
    "def enumerate_kmers(string,length):\n",
    "    data = string.split(\" \")\n",
    "    letters = []\n",
    "    for i in data:\n",
    "        if i not in letters:\n",
    "            letters.append(i)\n",
    "    letters = sorted(letters)\n",
    "    kmers = []\n",
    "    for i in letters:\n",
    "        temp = []\n",
    "        temp.append(i)\n",
    "        while len(temp) < length: # need to make it so that it will move ahead by a letter afterwards\n",
    "            for j in letters:\n",
    "                temp.append(j)\n",
    "        kmers.append(temp)\n",
    "                \n",
    "            "
   ]
  },
  {
   "cell_type": "code",
   "execution_count": 49,
   "metadata": {},
   "outputs": [
    {
     "name": "stdout",
     "output_type": "stream",
     "text": [
      "['A', 'C', 'G', 'T']\n",
      "None\n"
     ]
    }
   ],
   "source": [
    "test = \"A C G T\"\n",
    "test_num = 2\n",
    "print enumerate_kmers(test,test_num)"
   ]
  },
  {
   "cell_type": "code",
   "execution_count": null,
   "metadata": {
    "collapsed": true
   },
   "outputs": [],
   "source": []
  }
 ],
 "metadata": {
  "anaconda-cloud": {},
  "kernelspec": {
   "display_name": "Python [default]",
   "language": "python",
   "name": "python2"
  },
  "language_info": {
   "codemirror_mode": {
    "name": "ipython",
    "version": 2
   },
   "file_extension": ".py",
   "mimetype": "text/x-python",
   "name": "python",
   "nbconvert_exporter": "python",
   "pygments_lexer": "ipython2",
   "version": "2.7.13"
  }
 },
 "nbformat": 4,
 "nbformat_minor": 2
}
