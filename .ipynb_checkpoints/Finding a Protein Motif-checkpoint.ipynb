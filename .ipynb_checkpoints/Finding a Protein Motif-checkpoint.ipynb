{
 "cells": [
  {
   "cell_type": "code",
   "execution_count": 2,
   "metadata": {
    "collapsed": true
   },
   "outputs": [],
   "source": [
    "import re\n",
    "import urllib2\n",
    "import sys\n",
    "import numpy\n",
    "import os"
   ]
  },
  {
   "cell_type": "code",
   "execution_count": 70,
   "metadata": {
    "collapsed": true
   },
   "outputs": [],
   "source": [
    "def get_info(uniprot_accession_in): #get aa lengths and gene name\n",
    "    i=0\n",
    "    while i==0:\n",
    "        try:\n",
    "            data = urllib2.urlopen(\"http://www.uniprot.org/uniprot/\" + uniprot_accession_in + \".fasta\")\n",
    "            break\n",
    "        except urllib2.HTTPError, err:\n",
    "            i = i + 1\n",
    "            if i == 50:\n",
    "                sys.exit(\"More than 50 errors. Check your file or try again later.\")\n",
    "            if err.code == 404:\n",
    "                sequence = \"\"\n",
    "                return sequence\n",
    "            elif err.code == 302:\n",
    "                sys.exit(\"Request timed out. Check connection and try again.\")\n",
    "            else:\n",
    "                sys.exit(\"Uniprot had some other error\")\n",
    "    lines = data.readlines()\n",
    "    if lines == []:\n",
    "        sequence = \"\"\n",
    "        return sequence\n",
    "    if lines != []:\n",
    "        sequence = \"\"\n",
    "        for i in lines[1:]:\n",
    "            sequence = sequence + i.replace(\"\\n\",\"\")\n",
    "    return sequence\n",
    "def glycosyl_motif(protein_list):\n",
    "    #Finding a Protein Motif\n",
    "    output = []\n",
    "    for i in protein_list:\n",
    "        str_in = i.split(\"_\")[0]\n",
    "        sequence = get_info(str_in)\n",
    "        #index = [str(m.start(0)+1) for m in re.finditer(\"[N][^P][ST][^P]\", sequence)]\n",
    "        index = [str(m.start(0)+1) for m in re.finditer(r'(?=(N[^P][ST][^P]))', sequence)]\n",
    "        output.append(index)\n",
    "    out_str = \"\"\n",
    "    cnt = 0\n",
    "    for i in protein_list:\n",
    "        if output[cnt] != []:\n",
    "            out_str = out_str + str(i) + \"\\n\" + \" \".join(output[cnt])+\"\\n\"\n",
    "        cnt+=1\n",
    "    return out_str\n",
    "#print glycosyl_motif([\"P01045_KNH2_BOVIN\",\"A6UUD2\",\"P04441_HG2A_MOUSE\",\"P19835_BAL_HUMAN\",\"P80195_MPP3_BOVIN\",\"P04921_GLPC_HUMAN\",\"P04233_HG2A_HUMAN\",\"A3N0C7\",\"P02750_A2GL_HUMAN\",\"Q05557\",\"Q82ZQ1\",\"Q1JHI2\"])"
   ]
  },
  {
   "cell_type": "code",
   "execution_count": null,
   "metadata": {},
   "outputs": [],
   "source": []
  },
  {
   "cell_type": "code",
   "execution_count": null,
   "metadata": {
    "collapsed": true
   },
   "outputs": [],
   "source": []
  }
 ],
 "metadata": {
  "anaconda-cloud": {},
  "kernelspec": {
   "display_name": "Python [default]",
   "language": "python",
   "name": "python2"
  },
  "language_info": {
   "codemirror_mode": {
    "name": "ipython",
    "version": 2
   },
   "file_extension": ".py",
   "mimetype": "text/x-python",
   "name": "python",
   "nbconvert_exporter": "python",
   "pygments_lexer": "ipython2",
   "version": "2.7.13"
  }
 },
 "nbformat": 4,
 "nbformat_minor": 2
}
