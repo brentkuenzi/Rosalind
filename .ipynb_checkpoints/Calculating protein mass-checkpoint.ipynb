{
 "cells": [
  {
   "cell_type": "code",
   "execution_count": 2,
   "metadata": {
    "collapsed": true
   },
   "outputs": [],
   "source": [
    "def calculate_mass(aa_sequence):\n",
    "    monotopic_mass = {\"A\": 71.03711, \"C\": 103.00919, \"D\": 115.02694, \"E\": 129.04259, \"F\": 147.06841, \"G\": 57.02146, \"H\": 137.05891, \"I\": 113.08406, \"K\": 128.09496, \"L\": 113.08406, \"M\": 131.04049, \"N\": 114.04293, \"P\": 97.05276, \"Q\": 128.05858, \"R\": 156.10111, \"S\": 87.03203, \"T\": 101.04768, \"V\": 99.06841, \"W\": 186.07931, \"Y\": 163.06333}\n",
    "    mass = 0\n",
    "    for i in aa_sequence:\n",
    "        mass += monotopic_mass[i]\n",
    "    return mass"
   ]
  },
  {
   "cell_type": "code",
   "execution_count": 3,
   "metadata": {},
   "outputs": [
    {
     "data": {
      "text/plain": [
       "821.3919199999999"
      ]
     },
     "execution_count": 3,
     "metadata": {},
     "output_type": "execute_result"
    }
   ],
   "source": [
    "calculate_mass(\"SKADYEK\") # test"
   ]
  },
  {
   "cell_type": "code",
   "execution_count": 4,
   "metadata": {
    "collapsed": true
   },
   "outputs": [],
   "source": [
    "aa_sequence = \"AWALKDEGMTYSKLRGDRPYMYHSTEIPRPGDVMMAICPTLICWPNRANNLLTTDQSEKFKWNLCTRQSSVIKPTFLHYATCTCNLRLARHDWNSAIYGIKCMKPYDVCYTWRITESGNEHTMSDDSIACFTLMTPMCCADYKEPNNRTPQFSDNERVVPKIETNFRHMTTIVNTNAPIEMHCARCDTMFWMASEHCSHDLHGQQWHISWEGWAVSGRSEPTNQMDWRDVERMWDVRHPSHMTSRQMTFMHGLGTYHKKRGCAAWSHRSSRIVCQAQYQQYGFHLNHKRKWGINQFQELFMCVSCWVGENWSKTLMWWQVTDCWCSQATIDRVAVTCYEDQWHHPHTHFNNCTSYHLKMENMAHIITNIPKGIEPPFESFCYINCRNEHSIDAHNDFIQRHHWNFKFWYRCLACPSRDPIWIVCSENGAFMPCQLFYFNLFGGMYNIDHDGGQMPIQKKKDCIFGGSNARQLSRKSMFTLFQRTNLFEGGNGCCMWCSEDVGGEIVIACGPNNLHCQITMSNTFVYCGVFIVIYELCDEVLIEVVIMHGMKKNWFQVVYPCKIHCGWESGCSQAMGYNNQCPETWRGDYEEYCCTNELVPGMLQEKLVYQWKFSPMPREWNKPPPEVGDECLPQMCVWVREAAQEYNPVYHYFWQGNWMRIIARWTFRLDIDVCRPTVCLYGSFCFPWEGMDHHLYNKHWKNMPVIANYGHDRVGQYNYAIKPTMISLRPHSMDLFDLWCERGNQKAQKEQPSISRDSCLTAYHFLDEHEQFQNINQFITHMKRYEYQNYKVSWDCACSRCDDHCRRMQMFKRPEKRDVFIIWSKYQLTHQHQEEQIYFMARRGFETCIRRFHPAPNRKFAISEEQTSERARTLCHSRRRCVSFHTRRRFMCVCRFCPKIRWLK\""
   ]
  },
  {
   "cell_type": "code",
   "execution_count": 5,
   "metadata": {},
   "outputs": [
    {
     "data": {
      "text/plain": [
       "107500.15788000046"
      ]
     },
     "execution_count": 5,
     "metadata": {},
     "output_type": "execute_result"
    }
   ],
   "source": [
    "calculate_mass(aa_sequence)"
   ]
  },
  {
   "cell_type": "code",
   "execution_count": null,
   "metadata": {
    "collapsed": true
   },
   "outputs": [],
   "source": []
  }
 ],
 "metadata": {
  "anaconda-cloud": {},
  "kernelspec": {
   "display_name": "Python [default]",
   "language": "python",
   "name": "python2"
  },
  "language_info": {
   "codemirror_mode": {
    "name": "ipython",
    "version": 2
   },
   "file_extension": ".py",
   "mimetype": "text/x-python",
   "name": "python",
   "nbconvert_exporter": "python",
   "pygments_lexer": "ipython2",
   "version": "2.7.13"
  }
 },
 "nbformat": 4,
 "nbformat_minor": 2
}
