{
 "cells": [
  {
   "cell_type": "code",
   "execution_count": 170,
   "metadata": {},
   "outputs": [],
   "source": [
    "from Bio import Phylo\n",
    "import matplotlib.pyplot as plt\n",
    "from cStringIO import StringIO"
   ]
  },
  {
   "cell_type": "code",
   "execution_count": 189,
   "metadata": {},
   "outputs": [],
   "source": [
    "def readTab(infile): # read in txt file\n",
    "    with open(infile, 'r') as input_file:\n",
    "    # read in tab-delim text\n",
    "        output = []\n",
    "        for input_line in input_file:\n",
    "            input_line = input_line.strip()\n",
    "            temp = input_line.split('\\t')\n",
    "            output.append(temp)\n",
    "    return output\n",
    "def parseFile(matrix):\n",
    "    trees = []\n",
    "    nodes = []\n",
    "    for i in matrix:\n",
    "        if \";\" in i[0]:\n",
    "            trees.append(i[0])\n",
    "        else:\n",
    "            if i[0] != \"\":\n",
    "                nodes.append(i[0].split(\" \"))\n",
    "    return trees,nodes\n",
    "def TreeDistance(trees,nodelist):\n",
    "    distances = []\n",
    "    for i in range(0,len(trees)):\n",
    "        temp = Phylo.read(StringIO(trees[i]),\"newick\")\n",
    "        nodelist[i]\n",
    "        distances.append(str(len(temp.get_path(nodelist[i][0])) + len(temp.get_path(nodelist[i][1])))) # faulty assumption of different branches\n",
    "    return \" \".join(distances)"
   ]
  },
  {
   "cell_type": "code",
   "execution_count": 190,
   "metadata": {},
   "outputs": [],
   "source": [
    "trees, nodes = parseFile(readTab('newick.txt'))"
   ]
  },
  {
   "cell_type": "code",
   "execution_count": 191,
   "metadata": {},
   "outputs": [
    {
     "name": "stdout",
     "output_type": "stream",
     "text": [
      "1 2\n"
     ]
    }
   ],
   "source": [
    "print TreeDistance(trees,nodes)"
   ]
  },
  {
   "cell_type": "code",
   "execution_count": 192,
   "metadata": {},
   "outputs": [
    {
     "name": "stdout",
     "output_type": "stream",
     "text": [
      "149 2 18 109 16 16 27 29 2 6 33 20 21 2 25 26 37 29 25 20 111 2 20 2 62 2 48 17 21 2 2 18 18 19 25\n"
     ]
    }
   ],
   "source": [
    "trees, nodes = parseFile(readTab('rosalind_nwck.txt'))\n",
    "print TreeDistance(trees,nodes)"
   ]
  },
  {
   "cell_type": "code",
   "execution_count": null,
   "metadata": {},
   "outputs": [],
   "source": []
  },
  {
   "cell_type": "code",
   "execution_count": null,
   "metadata": {},
   "outputs": [],
   "source": []
  },
  {
   "cell_type": "code",
   "execution_count": null,
   "metadata": {
    "collapsed": true
   },
   "outputs": [],
   "source": []
  }
 ],
 "metadata": {
  "kernelspec": {
   "display_name": "Python [default]",
   "language": "python",
   "name": "python2"
  },
  "language_info": {
   "codemirror_mode": {
    "name": "ipython",
    "version": 2
   },
   "file_extension": ".py",
   "mimetype": "text/x-python",
   "name": "python",
   "nbconvert_exporter": "python",
   "pygments_lexer": "ipython2",
   "version": "2.7.13"
  }
 },
 "nbformat": 4,
 "nbformat_minor": 2
}
