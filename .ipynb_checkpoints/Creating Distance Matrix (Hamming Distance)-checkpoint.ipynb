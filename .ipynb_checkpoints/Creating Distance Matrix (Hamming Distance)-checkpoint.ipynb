{
 "cells": [
  {
   "cell_type": "markdown",
   "metadata": {},
   "source": [
    "Problem\n",
    "-------\n",
    "\n",
    "For two strings *s1* and *s2* of equal length, the p-distance between them, denoted *dp(s1,s2)*, is the proportion of corresponding symbols that differ between *s1* and *s2*.\n",
    "\n",
    "For a general distance function dd on nn taxa s1,s2,…,sns1,s2,…,sn (taxa are often represented by genetic strings), we may encode the distances between pairs of taxa via a distance matrix D in which Di,j=d(si,sj).\n",
    "\n",
    "**Given:** A collection of nn (n≤10n≤10) DNA strings s1,…,sns1,…,sn of equal length (at most 1 kbp). Strings are given in FASTA format.\n",
    "\n",
    "**Return:** The matrix D corresponding to the p-distance dpdp on the given strings. As always, note that your answer is allowed an absolute error of 0.001.\n",
    "\n"
   ]
  },
  {
   "cell_type": "code",
   "execution_count": 1,
   "metadata": {
    "collapsed": true
   },
   "outputs": [],
   "source": [
    "def readTab(infile): # read in txt file\n",
    "    with open(infile, 'r') as input_file:\n",
    "    # read in tab-delim text\n",
    "        output = []\n",
    "        for input_line in input_file:\n",
    "            input_line = input_line.strip()\n",
    "            temp = input_line.split('\\t')\n",
    "            output.append(temp)\n",
    "    return output\n",
    "def extract_fasta(fasta):\n",
    "    sequences = {}\n",
    "    headers = []\n",
    "    flag = \"\"\n",
    "    for i in fasta:\n",
    "        if i[0].startswith(\">\"):\n",
    "            headers.append(i[0])\n",
    "            flag = i[0]\n",
    "            sequences[flag] = \"\"\n",
    "        else:\n",
    "            sequences[flag] = sequences[flag] + i[0]\n",
    "    return sequences, headers\n",
    "def Hamming_distance(string1,string2, normalize):\n",
    "    diffs = 0\n",
    "    for i in range(len(string1)):\n",
    "        if string1[i] != string2[i]:\n",
    "            diffs +=1\n",
    "    dist = float(diffs)\n",
    "    if normalize:\n",
    "        dist = dist / float(len(string1))\n",
    "    return \"{0:.5f}\".format(dist)\n",
    "def distance_matrix(fasta):\n",
    "    sequences, headers = extract_fasta(fasta)\n",
    "    cols = []\n",
    "    for i in headers:\n",
    "        cols.append(i)\n",
    "    distance_matrix = []\n",
    "    for i in headers:\n",
    "        line = []\n",
    "        for j in headers:\n",
    "            line.append(str(Hamming_distance(sequences[i],sequences[j],True)))\n",
    "        distance_matrix.append(line)\n",
    "    return distance_matrix\n",
    "def matrix_toString(matrix):\n",
    "    output = \"\"\n",
    "    for i in matrix:\n",
    "        output = output + \" \".join(i) + \"\\n\"\n",
    "    return output"
   ]
  },
  {
   "cell_type": "code",
   "execution_count": 2,
   "metadata": {},
   "outputs": [
    {
     "name": "stdout",
     "output_type": "stream",
     "text": [
      "0.00000 0.40000 0.10000 0.10000\n",
      "0.40000 0.00000 0.40000 0.30000\n",
      "0.10000 0.40000 0.00000 0.20000\n",
      "0.10000 0.30000 0.20000 0.00000\n",
      "\n"
     ]
    }
   ],
   "source": [
    "test = readTab(\"dist_matrix.fasta\")\n",
    "test_matrix = distance_matrix(test)\n",
    "print matrix_toString(test_matrix)"
   ]
  },
  {
   "cell_type": "code",
   "execution_count": 3,
   "metadata": {},
   "outputs": [
    {
     "name": "stdout",
     "output_type": "stream",
     "text": [
      "0.00000 0.64302 0.47558 0.29884 0.56512 0.45930 0.62907 0.57209\n",
      "0.64302 0.00000 0.62442 0.58023 0.64419 0.47558 0.47326 0.31047\n",
      "0.47558 0.62442 0.00000 0.31744 0.34186 0.49070 0.63721 0.57442\n",
      "0.29884 0.58023 0.31744 0.00000 0.49767 0.31860 0.59070 0.49186\n",
      "0.56512 0.64419 0.34186 0.49767 0.00000 0.58953 0.66395 0.62674\n",
      "0.45930 0.47558 0.49070 0.31860 0.58953 0.00000 0.45349 0.30233\n",
      "0.62907 0.47326 0.63721 0.59070 0.66395 0.45349 0.00000 0.30814\n",
      "0.57209 0.31047 0.57442 0.49186 0.62674 0.30233 0.30814 0.00000\n",
      "\n"
     ]
    }
   ],
   "source": [
    "final = readTab(\"rosalind_pdst.txt\")\n",
    "final_matrix = distance_matrix(final)\n",
    "print matrix_toString(final_matrix)"
   ]
  },
  {
   "cell_type": "code",
   "execution_count": null,
   "metadata": {
    "collapsed": true
   },
   "outputs": [],
   "source": []
  }
 ],
 "metadata": {
  "anaconda-cloud": {},
  "kernelspec": {
   "display_name": "Python [default]",
   "language": "python",
   "name": "python2"
  },
  "language_info": {
   "codemirror_mode": {
    "name": "ipython",
    "version": 2
   },
   "file_extension": ".py",
   "mimetype": "text/x-python",
   "name": "python",
   "nbconvert_exporter": "python",
   "pygments_lexer": "ipython2",
   "version": "2.7.13"
  }
 },
 "nbformat": 4,
 "nbformat_minor": 2
}
