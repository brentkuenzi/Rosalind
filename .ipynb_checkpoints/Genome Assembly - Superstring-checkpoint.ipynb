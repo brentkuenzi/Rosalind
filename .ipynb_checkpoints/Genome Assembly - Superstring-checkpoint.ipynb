{
 "cells": [
  {
   "cell_type": "code",
   "execution_count": 285,
   "metadata": {},
   "outputs": [],
   "source": [
    "from difflib import SequenceMatcher\n",
    "def readTab(infile): # read in txt file\n",
    "    with open(infile, 'r') as input_file:\n",
    "    # read in tab-delim text\n",
    "        output = []\n",
    "        for input_line in input_file:\n",
    "            input_line = input_line.strip()\n",
    "            temp = input_line.split('\\t')\n",
    "            output.append(temp)\n",
    "    return output\n",
    "def extract_fasta(fasta):\n",
    "    sequences = {}\n",
    "    headers = []\n",
    "    flag = \"\"\n",
    "    for i in fasta:\n",
    "        if i[0].startswith(\">\"):\n",
    "            headers.append(i[0])\n",
    "            flag = i[0]\n",
    "            sequences[flag] = \"\"\n",
    "        else:\n",
    "            sequences[flag] = sequences[flag] + i[0]\n",
    "    return sequences, headers\n",
    "def assembleSuperString(sequences,headers):\n",
    "    superstring = \"\"\n",
    "    remaining = []\n",
    "    cnt = 0\n",
    "    while len(remaining) < len(headers): # iterate until all fragments are incorporated\n",
    "        for i in headers:\n",
    "            if i not in remaining:\n",
    "                mid = int(round(len(sequences[i])/2,0))\n",
    "                if superstring == \"\": # initialize superstring\n",
    "                    superstring = superstring + sequences[i]\n",
    "                    remaining.append(i)\n",
    "                if sequences[i][0:mid] in superstring: # check for overlap\n",
    "                    fragment = \"\" + sequences[i][0:mid]\n",
    "                    cnt=len(fragment)\n",
    "                    for j in sequences[i][mid:]: # look for longest overlap\n",
    "                        if fragment + j not in superstring:\n",
    "                            if superstring.endswith(fragment): # check to see if superstring ends with fragment\n",
    "                                superstring = superstring + sequences[i][cnt:] # append superstring\n",
    "                            if superstring.startswith(fragment):\n",
    "                                superstring = sequences[i][0:cnt]\n",
    "                        fragment = fragment + j\n",
    "                        cnt+=1\n",
    "                    remaining.append(i)\n",
    "    return superstring\n",
    "def find_overlap(string1,string2):\n",
    "    match = SequenceMatcher(None, string1, string2).find_longest_match(0, len(string1), 0, len(string2))\n",
    "    return string1[match.a: match.a + match.size]\n",
    "def assembleSuperString2(sequences,headers,iterations):\n",
    "    superstring = \"\"\n",
    "    remaining = []\n",
    "    cnt = 0\n",
    "    while len(remaining) < len(headers): # iterate until all fragments are incorporated\n",
    "        for i in headers:\n",
    "            if i not in remaining:\n",
    "                mid = len(sequences[i])/2\n",
    "                if superstring == \"\": # initialize superstring\n",
    "                    superstring = superstring + sequences[i]\n",
    "                    remaining.append(i)\n",
    "                else:\n",
    "                    overlap = find_overlap(sequences[i],superstring)\n",
    "                    fragment = \"\" + superstring\n",
    "                    if len(overlap) > mid:\n",
    "                        if sequences[i].endswith(overlap): # check for overlap\n",
    "                            superstring = sequences[i] + fragment.replace(overlap,\"\")\n",
    "                            remaining.append(i)\n",
    "                        if sequences[i].startswith(overlap):\n",
    "                            superstring = fragment.replace(overlap,\"\") + sequences[i]\n",
    "                            remaining.append(i)\n",
    "        cnt+=1\n",
    "        if cnt == iterations:\n",
    "            break\n",
    "    if len(remaining) == len(headers):\n",
    "        print \"Assembly successfully completed!\"\n",
    "    else:\n",
    "        print \"Assembly failed!\"\n",
    "    return superstring"
   ]
  },
  {
   "cell_type": "code",
   "execution_count": 286,
   "metadata": {},
   "outputs": [
    {
     "name": "stdout",
     "output_type": "stream",
     "text": [
      "True\n",
      "7\n",
      "7\n",
      "7\n",
      "Assembly successfully completed!\n",
      "True\n"
     ]
    }
   ],
   "source": [
    "seq_test, headers = extract_fasta(readTab(\"GenomeAssembly_test.fasta\"))\n",
    "answer = \"ATTAGACCTGCCGGAATAC\"\n",
    "print assembleSuperString(seq_test,headers) == answer\n",
    "print assembleSuperString2(seq_test,headers,10) == answer"
   ]
  },
  {
   "cell_type": "code",
   "execution_count": 288,
   "metadata": {},
   "outputs": [
    {
     "name": "stdout",
     "output_type": "stream",
     "text": [
      "Assembly failed!\n",
      "981\n"
     ]
    }
   ],
   "source": [
    "seq_test, headers = extract_fasta(readTab(\"rosalind_long.txt\"))\n",
    "print len(assembleSuperString2(seq_test,headers, 100))"
   ]
  },
  {
   "cell_type": "code",
   "execution_count": null,
   "metadata": {},
   "outputs": [],
   "source": []
  },
  {
   "cell_type": "code",
   "execution_count": null,
   "metadata": {
    "collapsed": true
   },
   "outputs": [],
   "source": []
  }
 ],
 "metadata": {
  "anaconda-cloud": {},
  "kernelspec": {
   "display_name": "Python [default]",
   "language": "python",
   "name": "python2"
  },
  "language_info": {
   "codemirror_mode": {
    "name": "ipython",
    "version": 2
   },
   "file_extension": ".py",
   "mimetype": "text/x-python",
   "name": "python",
   "nbconvert_exporter": "python",
   "pygments_lexer": "ipython2",
   "version": "2.7.13"
  }
 },
 "nbformat": 4,
 "nbformat_minor": 2
}
