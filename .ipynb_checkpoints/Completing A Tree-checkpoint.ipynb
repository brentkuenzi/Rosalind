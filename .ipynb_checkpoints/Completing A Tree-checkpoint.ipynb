{
 "cells": [
  {
   "cell_type": "code",
   "execution_count": 40,
   "metadata": {},
   "outputs": [],
   "source": [
    "\"\"\"\n",
    "Given: A positive integer nn (n≤1000n≤1000) and an adjacency list corresponding to a graph on n nodes that contains no cycles.\n",
    "\n",
    "Return: The minimum number of edges that can be added to the graph to produce a tree.\n",
    "\n",
    "\"\"\"\n",
    "\n",
    "def readTab(infile): # read in txt file\n",
    "    with open(infile, 'r') as input_file:\n",
    "    # read in tab-delim text\n",
    "        output = []\n",
    "        for input_line in input_file:\n",
    "            input_line = input_line.strip()\n",
    "            temp = input_line.split('\\t')\n",
    "            output.append(temp)\n",
    "    return output\n",
    "def format_tree(tree):\n",
    "    node_n = int(tree[0][0])\n",
    "    edges=[]\n",
    "    for i in range(1, len(tree)):\n",
    "        edges.append(map(int, tree[i][0].split()))\n",
    "    return node_n, edges\n",
    "def complete_tree(n, edges):\n",
    "    return n - len(edges) - 1"
   ]
  },
  {
   "cell_type": "code",
   "execution_count": 42,
   "metadata": {},
   "outputs": [
    {
     "name": "stdout",
     "output_type": "stream",
     "text": [
      "3\n"
     ]
    }
   ],
   "source": [
    "node_n_test, edges_test = format_tree(readTab(\"completing_tree.txt\"))\n",
    "print complete_tree(node_n_test,edges_test)"
   ]
  },
  {
   "cell_type": "code",
   "execution_count": 43,
   "metadata": {},
   "outputs": [
    {
     "name": "stdout",
     "output_type": "stream",
     "text": [
      "56\n"
     ]
    }
   ],
   "source": [
    "node_n_final, edges_final = format_tree(readTab(\"rosalind_tree.txt\"))\n",
    "print complete_tree(node_n_final,edges_final)"
   ]
  },
  {
   "cell_type": "code",
   "execution_count": null,
   "metadata": {
    "collapsed": true
   },
   "outputs": [],
   "source": []
  }
 ],
 "metadata": {
  "anaconda-cloud": {},
  "kernelspec": {
   "display_name": "Python [default]",
   "language": "python",
   "name": "python2"
  },
  "language_info": {
   "codemirror_mode": {
    "name": "ipython",
    "version": 2
   },
   "file_extension": ".py",
   "mimetype": "text/x-python",
   "name": "python",
   "nbconvert_exporter": "python",
   "pygments_lexer": "ipython2",
   "version": "2.7.13"
  }
 },
 "nbformat": 4,
 "nbformat_minor": 2
}
