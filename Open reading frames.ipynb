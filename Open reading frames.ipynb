{
 "cells": [
  {
   "cell_type": "markdown",
   "metadata": {},
   "source": [
    "Problem\n",
    "-------\n",
    "Either strand of a DNA double helix can serve as the coding strand for RNA transcription. Hence, a given DNA string implies six total reading frames, or ways in which the same region of DNA can be translated into amino acids: three reading frames result from reading the string itself, whereas three more result from reading its reverse complement.\n",
    "\n",
    "An open reading frame (ORF) is one which starts from the start codon and ends by stop codon, without any other stop codons in between. Thus, a candidate protein string is derived by translating an open reading frame into amino acids until a stop codon is reached.\n",
    "\n",
    "**Given**: A DNA string ss of length at most 1 kbp in FASTA format.\n",
    "\n",
    "**Return**: Every distinct candidate protein string that can be translated from ORFs of ss. Strings can be returned in any order."
   ]
  },
  {
   "cell_type": "code",
   "execution_count": 33,
   "metadata": {},
   "outputs": [],
   "source": [
    "DNA_codon_table = {\n",
    "    'TTT': 'F',     'CTT': 'L',     'ATT': 'I',     'GTT': 'V',\n",
    "    'TTC': 'F',     'CTC': 'L',     'ATC': 'I',     'GTC': 'V',\n",
    "    'TTA': 'L',     'CTA': 'L',     'ATA': 'I',     'GTA': 'V',\n",
    "    'TTG': 'L',     'CTG': 'L',     'ATG': 'M',     'GTG': 'V',\n",
    "    'TCT': 'S',     'CCT': 'P',     'ACT': 'T',     'GCT': 'A',\n",
    "    'TCC': 'S',     'CCC': 'P',     'ACC': 'T',     'GCC': 'A',\n",
    "    'TCA': 'S',     'CCA': 'P',     'ACA': 'T',     'GCA': 'A',\n",
    "    'TCG': 'S',     'CCG': 'P',     'ACG': 'T',     'GCG': 'A',\n",
    "    'TAT': 'Y',     'CAT': 'H',     'AAT': 'N',     'GAT': 'D',\n",
    "    'TAC': 'Y',     'CAC': 'H',     'AAC': 'N',     'GAC': 'D',\n",
    "    'TAA': '-',     'CAA': 'Q',     'AAA': 'K',     'GAA': 'E',\n",
    "    'TAG': '-',     'CAG': 'Q',     'AAG': 'K',     'GAG': 'E',\n",
    "    'TGT': 'C',     'CGT': 'R',     'AGT': 'S',     'GGT': 'G',\n",
    "    'TGC': 'C',     'CGC': 'R',     'AGC': 'S',     'GGC': 'G',\n",
    "    'TGA': '-',     'CGA': 'R',     'AGA': 'R',     'GGA': 'G',\n",
    "    'TGG': 'W',     'CGG': 'R',     'AGG': 'R',     'GGG': 'G'\n",
    "}\n",
    "def readTab(infile): # read in txt file\n",
    "    with open(infile, 'r') as input_file:\n",
    "    # read in tab-delim text\n",
    "        output = []\n",
    "        for input_line in input_file:\n",
    "            input_line = input_line.strip()\n",
    "            temp = input_line.split('\\t')\n",
    "            output.append(temp)\n",
    "    return output\n",
    "def extract_fasta(fasta):\n",
    "    sequences = {}\n",
    "    headers = []\n",
    "    flag = \"\"\n",
    "    for i in fasta:\n",
    "        if i[0].startswith(\">\"):\n",
    "            headers.append(i[0])\n",
    "            flag = i[0]\n",
    "            sequences[flag] = \"\"\n",
    "        else:\n",
    "            sequences[flag] = sequences[flag] + i[0]\n",
    "    return sequences, headers\n",
    "def translateDNA_protein(sequence):\n",
    "    protein = \"\"\n",
    "    for i in range(0, len(sequence), 3):\n",
    "        if len(sequence[i:i+3]) == 3:\n",
    "            if DNA_codon_table[sequence[i:i+3]] == \"-\":\n",
    "                return protein\n",
    "                break\n",
    "            else:\n",
    "                protein = protein+DNA_codon_table[sequence[i:i+3]]\n",
    "def reverse_complement(sequence):\n",
    "    complement = {\"A\":\"T\",\"C\":\"G\",\"G\":\"C\",\"T\":\"A\"}\n",
    "    rev = \"\"\n",
    "    for i in sequence[::-1]:\n",
    "        rev += complement[i] \n",
    "    return rev\n",
    "def extract_ORFs(sequence): # ADD STOP CODON\n",
    "    reverse = reverse_complement(sequence)\n",
    "    ORFs = []\n",
    "    for i in range(3):\n",
    "        seq = sequence[0+i:]\n",
    "        for j in range(0, len(seq), 3):\n",
    "            if seq[j:j+3] == \"ATG\":\n",
    "                temp = translateDNA_protein(seq[j:])\n",
    "                if temp not in ORFs:\n",
    "                    if temp != None:\n",
    "                        ORFs.append(temp)\n",
    "        rev = reverse[0+i:]\n",
    "        for k in range(0, len(rev), 3):\n",
    "            if rev[k:k+3] == \"ATG\":\n",
    "                temp = translateDNA_protein(rev[k:])\n",
    "                if temp not in ORFs:\n",
    "                    if temp != None:\n",
    "                        ORFs.append(temp) \n",
    "    return \"\\n\".join(ORFs)"
   ]
  },
  {
   "cell_type": "code",
   "execution_count": 21,
   "metadata": {
    "collapsed": true
   },
   "outputs": [],
   "source": [
    "sequences, headers = extract_fasta(readTab(\"ORF.fasta\"))"
   ]
  },
  {
   "cell_type": "code",
   "execution_count": 34,
   "metadata": {},
   "outputs": [
    {
     "name": "stdout",
     "output_type": "stream",
     "text": [
      "MGMTPRLGLESLLE\n",
      "MTPRLGLESLLE\n",
      "M\n",
      "MLLGSFRLIPKETLIQVAGSSPCNLS\n"
     ]
    }
   ],
   "source": [
    "print extract_ORFs(sequences[headers[0]])"
   ]
  },
  {
   "cell_type": "code",
   "execution_count": null,
   "metadata": {
    "collapsed": true
   },
   "outputs": [],
   "source": []
  }
 ],
 "metadata": {
  "anaconda-cloud": {},
  "kernelspec": {
   "display_name": "Python [default]",
   "language": "python",
   "name": "python2"
  },
  "language_info": {
   "codemirror_mode": {
    "name": "ipython",
    "version": 2
   },
   "file_extension": ".py",
   "mimetype": "text/x-python",
   "name": "python",
   "nbconvert_exporter": "python",
   "pygments_lexer": "ipython2",
   "version": "2.7.13"
  }
 },
 "nbformat": 4,
 "nbformat_minor": 2
}
