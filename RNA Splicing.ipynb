{
 "cells": [
  {
   "cell_type": "markdown",
   "metadata": {},
   "source": [
    "# Problem\n",
    "\n",
    "After identifying the exons and introns of an RNA string, we only need to delete the introns and concatenate the exons to form a new string ready for translation.\n",
    "\n",
    "**Given**: A DNA string s (of length at most 1 kbp) and a collection of substrings of ss acting as introns. All strings are given in FASTA format.\n",
    "\n",
    "**Return**: A protein string resulting from transcribing and translating the exons of s. (Note: Only one solution will exist for the dataset provided.)"
   ]
  },
  {
   "cell_type": "code",
   "execution_count": 9,
   "metadata": {
    "collapsed": true
   },
   "outputs": [],
   "source": [
    "DNA_codon_table = {\n",
    "    'TTT': 'F',     'CTT': 'L',     'ATT': 'I',     'GTT': 'V',\n",
    "    'TTC': 'F',     'CTC': 'L',     'ATC': 'I',     'GTC': 'V',\n",
    "    'TTA': 'L',     'CTA': 'L',     'ATA': 'I',     'GTA': 'V',\n",
    "    'TTG': 'L',     'CTG': 'L',     'ATG': 'M',     'GTG': 'V',\n",
    "    'TCT': 'S',     'CCT': 'P',     'ACT': 'T',     'GCT': 'A',\n",
    "    'TCC': 'S',     'CCC': 'P',     'ACC': 'T',     'GCC': 'A',\n",
    "    'TCA': 'S',     'CCA': 'P',     'ACA': 'T',     'GCA': 'A',\n",
    "    'TCG': 'S',     'CCG': 'P',     'ACG': 'T',     'GCG': 'A',\n",
    "    'TAT': 'Y',     'CAT': 'H',     'AAT': 'N',     'GAT': 'D',\n",
    "    'TAC': 'Y',     'CAC': 'H',     'AAC': 'N',     'GAC': 'D',\n",
    "    'TAA': '-',     'CAA': 'Q',     'AAA': 'K',     'GAA': 'E',\n",
    "    'TAG': '-',     'CAG': 'Q',     'AAG': 'K',     'GAG': 'E',\n",
    "    'TGT': 'C',     'CGT': 'R',     'AGT': 'S',     'GGT': 'G',\n",
    "    'TGC': 'C',     'CGC': 'R',     'AGC': 'S',     'GGC': 'G',\n",
    "    'TGA': '-',     'CGA': 'R',     'AGA': 'R',     'GGA': 'G',\n",
    "    'TGG': 'W',     'CGG': 'R',     'AGG': 'R',     'GGG': 'G'\n",
    "}\n",
    "def readTab(infile): # read in txt file\n",
    "    with open(infile, 'r') as input_file:\n",
    "    # read in tab-delim text\n",
    "        output = []\n",
    "        for input_line in input_file:\n",
    "            input_line = input_line.strip()\n",
    "            temp = input_line.split('\\t')\n",
    "            output.append(temp)\n",
    "    return output\n",
    "def extract_fasta(fasta):\n",
    "    sequences = {}\n",
    "    headers = []\n",
    "    flag = \"\"\n",
    "    for i in fasta:\n",
    "        if i[0].startswith(\">\"):\n",
    "            headers.append(i[0])\n",
    "            flag = i[0]\n",
    "            sequences[flag] = \"\"\n",
    "        else:\n",
    "            sequences[flag] = sequences[flag] + i[0]\n",
    "    return sequences, headers\n",
    "def splice_introns(sequences, headers):\n",
    "    DNA_string = sequences[headers[0]]\n",
    "    for i in headers[1:]:\n",
    "        DNA_string = DNA_string.replace(sequences[i],\"\")\n",
    "    return DNA_string\n",
    "def translateDNA_protein(sequence):\n",
    "    protein = \"\"\n",
    "    for i in range(0, len(sequence), 3):\n",
    "        protein = protein+DNA_codon_table[sequence[i:i+3]]\n",
    "    protein = protein.replace(\"-\",\"\")\n",
    "    return protein"
   ]
  },
  {
   "cell_type": "code",
   "execution_count": 10,
   "metadata": {
    "collapsed": true
   },
   "outputs": [],
   "source": [
    "RNA_test, headers = extract_fasta(readTab(\"RNA_splicing_sample.fasta\"))"
   ]
  },
  {
   "cell_type": "code",
   "execution_count": 11,
   "metadata": {},
   "outputs": [
    {
     "name": "stdout",
     "output_type": "stream",
     "text": [
      "MVYIADKQHVASREAYGHMFKVCA\n"
     ]
    }
   ],
   "source": [
    "print translateDNA_protein(splice_introns(RNA_test,headers))"
   ]
  },
  {
   "cell_type": "code",
   "execution_count": 12,
   "metadata": {},
   "outputs": [
    {
     "name": "stdout",
     "output_type": "stream",
     "text": [
      "MYGLRRGDAPNPAGAKLPSYYSVYDCTAFLGSRLHKRLLPAPSLTVQLVLARVALSRGPHFVAKLHSRDLVPGKIITKSLYSGTSALVSKLDDSLTISAVLKVSYDSLLGSRVSILDIQMRLHDGSSGLRTKWILERDMKRLPISDVRTCVNMQLSWACRRLRLVPKRSDSRWPVMSSYIGPPSVCR\n"
     ]
    }
   ],
   "source": [
    "RNA_final, headers = extract_fasta(readTab(\"rosalind_splc.txt\"))\n",
    "print translateDNA_protein(splice_introns(RNA_final,headers))"
   ]
  },
  {
   "cell_type": "code",
   "execution_count": null,
   "metadata": {
    "collapsed": true
   },
   "outputs": [],
   "source": []
  }
 ],
 "metadata": {
  "anaconda-cloud": {},
  "kernelspec": {
   "display_name": "Python [default]",
   "language": "python",
   "name": "python2"
  },
  "language_info": {
   "codemirror_mode": {
    "name": "ipython",
    "version": 2
   },
   "file_extension": ".py",
   "mimetype": "text/x-python",
   "name": "python",
   "nbconvert_exporter": "python",
   "pygments_lexer": "ipython2",
   "version": "2.7.13"
  }
 },
 "nbformat": 4,
 "nbformat_minor": 2
}
