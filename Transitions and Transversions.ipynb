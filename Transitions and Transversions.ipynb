{
 "cells": [
  {
   "cell_type": "code",
   "execution_count": 35,
   "metadata": {},
   "outputs": [],
   "source": [
    "def readTab(infile): # read in txt file\n",
    "    with open(infile, 'r') as input_file:\n",
    "    # read in tab-delim text\n",
    "        output = []\n",
    "        for input_line in input_file:\n",
    "            input_line = input_line.strip()\n",
    "            temp = input_line.split('\\t')\n",
    "            output.append(temp)\n",
    "    return output\n",
    "def extract_fasta(fasta):\n",
    "    sequences = {}\n",
    "    headers = []\n",
    "    flag = \"\"\n",
    "    for i in fasta:\n",
    "        if i[0].startswith(\">\"):\n",
    "            headers.append(i[0])\n",
    "            flag = i[0]\n",
    "            sequences[flag] = \"\"\n",
    "        else:\n",
    "            sequences[flag] = sequences[flag] + i[0]\n",
    "    return sequences, headers\n",
    "def transition(nuc1,nuc2):\n",
    "    if nuc1+nuc2 in [\"AG\",\"GA\",\"CT\",\"TC\"]:\n",
    "        return True\n",
    "def transversion(nuc1,nuc2):\n",
    "    if nuc1+nuc2 in [\"AC\",\"CA\",\"GT\",\"TG\",\"AT\",\"TA\",\"CG\",\"GC\"]:\n",
    "        return True\n",
    "def transitions_transversion_ratio(string1,string2):\n",
    "    diffs = 0\n",
    "    transitions = 0; transversions = 0\n",
    "    for i in range(len(string1)):\n",
    "        if string1[i] != string2[i]:\n",
    "            if transition(string1[i],string2[i]):\n",
    "                transitions+=1\n",
    "            if transversion(string1[i],string2[i]):\n",
    "                transversions+=1\n",
    "    return float(transitions)/transversions"
   ]
  },
  {
   "cell_type": "code",
   "execution_count": 36,
   "metadata": {},
   "outputs": [],
   "source": [
    "sequences,headers = extract_fasta(readTab(\"transitions_transversions.fasta\"))"
   ]
  },
  {
   "cell_type": "code",
   "execution_count": 37,
   "metadata": {},
   "outputs": [
    {
     "data": {
      "text/plain": [
       "1.2142857142857142"
      ]
     },
     "execution_count": 37,
     "metadata": {},
     "output_type": "execute_result"
    }
   ],
   "source": [
    "seq = sequences.values()\n",
    "transitions_transversion_ratio(seq[0],seq[1])"
   ]
  },
  {
   "cell_type": "code",
   "execution_count": 38,
   "metadata": {},
   "outputs": [
    {
     "data": {
      "text/plain": [
       "2.253012048192771"
      ]
     },
     "execution_count": 38,
     "metadata": {},
     "output_type": "execute_result"
    }
   ],
   "source": [
    "sequences,headers = extract_fasta(readTab(\"rosalind_tran.txt\"))\n",
    "seq = sequences.values()\n",
    "transitions_transversion_ratio(seq[0],seq[1])"
   ]
  },
  {
   "cell_type": "code",
   "execution_count": null,
   "metadata": {
    "collapsed": true
   },
   "outputs": [],
   "source": []
  }
 ],
 "metadata": {
  "anaconda-cloud": {},
  "kernelspec": {
   "display_name": "Python [default]",
   "language": "python",
   "name": "python2"
  },
  "language_info": {
   "codemirror_mode": {
    "name": "ipython",
    "version": 2
   },
   "file_extension": ".py",
   "mimetype": "text/x-python",
   "name": "python",
   "nbconvert_exporter": "python",
   "pygments_lexer": "ipython2",
   "version": "2.7.13"
  }
 },
 "nbformat": 4,
 "nbformat_minor": 2
}
